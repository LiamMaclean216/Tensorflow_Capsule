{
 "cells": [
  {
   "cell_type": "code",
   "execution_count": 1,
   "metadata": {},
   "outputs": [
    {
     "name": "stdout",
     "output_type": "stream",
     "text": [
      "Extracting /tmp/data/train-images-idx3-ubyte.gz\n",
      "Extracting /tmp/data/train-labels-idx1-ubyte.gz\n",
      "Extracting /tmp/data/t10k-images-idx3-ubyte.gz\n",
      "Extracting /tmp/data/t10k-labels-idx1-ubyte.gz\n"
     ]
    }
   ],
   "source": [
    "import tensorflow as tf\n",
    "import CapsLayer as cp\n",
    "import numpy as np\n",
    "\n",
    "from tensorflow.examples.tutorials.mnist import input_data\n",
    "import matplotlib.pyplot as plt\n",
    "%matplotlib inline\n",
    "import cv2\n",
    "import os\n",
    "mnist = input_data.read_data_sets(\"/tmp/data/\")"
   ]
  },
  {
   "cell_type": "code",
   "execution_count": 5,
   "metadata": {
    "scrolled": true
   },
   "outputs": [
    {
     "name": "stdout",
     "output_type": "stream",
     "text": [
      "kk\n"
     ]
    }
   ],
   "source": [
    "tf.reset_default_graph()\n",
    "\n",
    "input_dim = [28,28] #784\n",
    "\n",
    "X = tf.placeholder(shape=[None, input_dim[0],input_dim[1], 1], dtype=tf.float32, name=\"X\")\n",
    "y = tf.placeholder(shape=[None, input_dim[0],input_dim[1], 1], dtype=tf.float32, name=\"y\")\n",
    "\n",
    "e_conv1 = tf.layers.conv2d(X, name=\"e_conv1\", filters = 16, \n",
    "                             kernel_size = 2,strides = 1,padding = \"valid\", activation = tf.nn.relu)\n",
    "e_conv2 = tf.layers.conv2d(e_conv1, name=\"e_conv2\", filters = 32, \n",
    "                             kernel_size = 2,strides = 1,padding = \"valid\", activation = tf.nn.relu)\n",
    "e_conv3 = tf.layers.conv2d(e_conv2, name=\"e_conv3\", filters = 16, \n",
    "                             kernel_size = 2,strides = 1,padding = \"valid\", activation = tf.nn.relu)\n",
    "e_conv4 = tf.layers.conv2d(e_conv3, name=\"e_conv4\", filters = 32, \n",
    "                             kernel_size = 2,strides = 1,padding = \"valid\", activation = tf.nn.relu)\n",
    "e_conv5 = cp.conv_to_caps(e_conv4, name=\"e_conv5\", num_maps = 16,caps_dims =5,\n",
    "                             kernel_size = 1,strides = 1,padding = \"valid\", activation = tf.nn.relu)\n",
    "\n",
    "caps1,_ = cp.capsule(X,num_caps=5,caps_dims=1,batch_size=tf.shape(X)[0],name=\"caps1\")\n",
    "#caps_bridge = tf.reshape(caps1,[tf.shape(X)[0],caps1.shape[1]*caps1.shape[2]],name = \"caps1_bridge\")\n",
    "caps_bridge = tf.reshape(caps1,[tf.shape(caps1)[0],caps1.shape[1],caps1.shape[2],1])\n",
    "\n",
    "\n",
    "d_conv1 = tf.layers.conv2d(caps_bridge, name=\"d_conv1\", filters = 16, \n",
    "                             kernel_size = 1,strides = 1,padding = \"valid\", activation = tf.nn.relu)\n",
    "d_conv2 = tf.layers.conv2d(d_conv1, name=\"d_conv2\", filters = 32, \n",
    "                             kernel_size = 1,strides = 1,padding = \"valid\", activation = tf.nn.relu)\n",
    "d_conv3 = tf.layers.conv2d(d_conv2, name=\"d_conv3\", filters = 16, \n",
    "                             kernel_size = 1,strides = 1,padding = \"valid\", activation = tf.nn.relu)\n",
    "d_conv4 = tf.layers.conv2d(d_conv3, name=\"d_conv4\", filters = 32, \n",
    "                             kernel_size = 1,strides = 1,padding = \"valid\", activation = tf.nn.relu)\n",
    "d_conv5 = tf.layers.conv2d(d_conv4, name=\"d_conv5\", filters = 16, \n",
    "                             kernel_size = 1,strides = 1,padding = \"valid\", activation = tf.nn.relu)\n",
    "d_conv5_flat = tf.reshape(d_conv5,[tf.shape(caps1)[0],d_conv5.shape[1]*d_conv5.shape[2]*d_conv5.shape[3]])\n",
    "\n",
    "\n",
    "#dense1 = tf.layers.dense(caps_bridge,100)\n",
    "#dense2 = tf.layers.dense(dense1,300)\n",
    "dense3 = tf.layers.dense(d_conv5_flat,input_dim[0]*input_dim[1])\n",
    "\n",
    "output_caps = dense3\n",
    "print(\"kk\")"
   ]
  },
  {
   "cell_type": "code",
   "execution_count": 6,
   "metadata": {},
   "outputs": [
    {
     "name": "stdout",
     "output_type": "stream",
     "text": [
      "Tensor(\"Reshape_2:0\", shape=(?, 28, 28, 1), dtype=float32)\n"
     ]
    }
   ],
   "source": [
    "\n",
    "output = tf.reshape(output_caps,[tf.shape(X)[0],input_dim[0],input_dim[1],1])\n",
    "print(output)"
   ]
  },
  {
   "cell_type": "code",
   "execution_count": 7,
   "metadata": {},
   "outputs": [],
   "source": [
    "loss = tf.reduce_mean(tf.square(output-y))\n",
    "\n",
    "#loss = tf.reduce_mean(tf.nn.sigmoid_cross_entropy_with_logits(logits = output, labels = y)) \n",
    "\n",
    "optimizer = tf.train.AdamOptimizer(learning_rate = 0.001)\n",
    "training_op = optimizer.minimize(loss, name=\"training_op\")\n",
    "\n",
    "init = tf.global_variables_initializer()\n"
   ]
  },
  {
   "cell_type": "code",
   "execution_count": 8,
   "metadata": {
    "scrolled": false
   },
   "outputs": [
    {
     "name": "stdout",
     "output_type": "stream",
     "text": [
      "Starting Training\n",
      "Epoch: 1  Iteration: 3000/3437 (87.3%)  Loss: 0.03760"
     ]
    },
    {
     "data": {
      "image/png": "[encoded data removed]",
      "text/plain": [
       "<matplotlib.figure.Figure at 0x7f336753b240>"
      ]
     },
     "metadata": {},
     "output_type": "display_data"
    },
    {
     "data": {
      "image/png": "[encoded data removed]",
      "text/plain": [
       "<matplotlib.figure.Figure at 0x7f3363dc4780>"
      ]
     },
     "metadata": {},
     "output_type": "display_data"
    },
    {
     "name": "stdout",
     "output_type": "stream",
     "text": [
      "Epoch: 2  Iteration: 3000/3437 (87.3%)  Loss: 0.037289"
     ]
    },
    {
     "data": {
      "image/png": "[encoded data removed]",
      "text/plain": [
       "<matplotlib.figure.Figure at 0x7f3363dc09b0>"
      ]
     },
     "metadata": {},
     "output_type": "display_data"
    },
    {
     "data": {
      "image/png": "[encoded data removed]",
      "text/plain": [
       "<matplotlib.figure.Figure at 0x7f3367612c18>"
      ]
     },
     "metadata": {},
     "output_type": "display_data"
    },
    {
     "name": "stdout",
     "output_type": "stream",
     "text": [
      "Epoch: 3  Iteration: 3000/3437 (87.3%)  Loss: 0.041825"
     ]
    },
    {
     "data": {
      "image/png": "[encoded data removed]",
      "text/plain": [
       "<matplotlib.figure.Figure at 0x7f3367588c18>"
      ]
     },
     "metadata": {},
     "output_type": "display_data"
    },
    {
     "data": {
      "image/png": "[encoded data removed]",
      "text/plain": [
       "<matplotlib.figure.Figure at 0x7f3367868240>"
      ]
     },
     "metadata": {},
     "output_type": "display_data"
    },
    {
     "name": "stdout",
     "output_type": "stream",
     "text": [
      "Epoch: 4  Iteration: 3000/3437 (87.3%)  Loss: 0.034488"
     ]
    },
    {
     "data": {
      "image/png": "[encoded data removed]",
      "text/plain": [
       "<matplotlib.figure.Figure at 0x7f33677962b0>"
      ]
     },
     "metadata": {},
     "output_type": "display_data"
    },
    {
     "data": {
      "image/png": "[encoded data removed]",
      "text/plain": [
       "<matplotlib.figure.Figure at 0x7f3367653d68>"
      ]
     },
     "metadata": {},
     "output_type": "display_data"
    },
    {
     "name": "stdout",
     "output_type": "stream",
     "text": [
      "Epoch: 5  Iteration: 3000/3437 (87.3%)  Loss: 0.039866"
     ]
    },
    {
     "data": {
      "image/png": "[encoded data removed]",
      "text/plain": [
       "<matplotlib.figure.Figure at 0x7f33625046d8>"
      ]
     },
     "metadata": {},
     "output_type": "display_data"
    },
    {
     "data": {
      "image/png": "[encoded data removed]",
      "text/plain": [
       "<matplotlib.figure.Figure at 0x7f3362459780>"
      ]
     },
     "metadata": {},
     "output_type": "display_data"
    },
    {
     "name": "stdout",
     "output_type": "stream",
     "text": [
      "Epoch: 5  Iteration: 3437/3437 (100.0%)  Loss: 0.04140"
     ]
    }
   ],
   "source": [
    "n_epochs = 5\n",
    "batch_size = 16\n",
    "\n",
    "n_iterations_per_epoch = mnist.train.num_examples // batch_size\n",
    "#with tf.Session() as sess:\n",
    "sess = tf.Session()\n",
    "print(\"Starting Training\")\n",
    "sess.run(init)\n",
    "#init.run()\n",
    "for epoch in range(n_epochs):\n",
    "    for iteration in range(1, n_iterations_per_epoch + 1):\n",
    "        X_batch,_ = mnist.train.next_batch(batch_size)\n",
    "        y_batch = X_batch\n",
    "        \n",
    "            \n",
    "        y_batch = X_batch = X_batch.reshape([-1, input_dim[0], input_dim[0], 1])\n",
    "        \n",
    "       # for i,x in enumerate(X_batch):\n",
    "        #    X_batch[i] = np.rot90(x,iteration%3)\n",
    "        y_batch = X_batch\n",
    "        _,loss_train,pred = sess.run([training_op,loss,output],feed_dict={X: X_batch,\n",
    "                       y: y_batch})\n",
    "\n",
    "        print((\"\\rEpoch: {}  Iteration: {}/{} ({:.1f}%)  Loss: {:.5f}\").format(\n",
    "                  epoch+1,iteration, n_iterations_per_epoch,\n",
    "                  iteration * 100 / n_iterations_per_epoch,\n",
    "                  loss_train),\n",
    "              end=\"\")\n",
    "        if(iteration % 3000 == 0):\n",
    "            #index = 0\n",
    "            n_samples = 5\n",
    "            for index in range(n_samples):\n",
    "                #plt.figure(figsize=(n_samples * 2, 3))\n",
    "                plt.subplot(1, n_samples, index + 1)\n",
    "                #plt.title(\"Predicted:\" + str(pred[index]))\n",
    "                plt.imshow(np.squeeze(y_batch[index]), cmap=\"binary\")\n",
    "                plt.axis(\"off\")\n",
    "            plt.show()\n",
    "            for index in range(n_samples):\n",
    "\n",
    "                plt.subplot(1, n_samples, index + 1)\n",
    "                #plt.title(\"Predicted:\" + str(pred[index]))\n",
    "                plt.imshow(np.squeeze(pred[index]), cmap=\"binary\")\n",
    "                plt.axis(\"off\")\n",
    "\n",
    "            plt.show()\n",
    "\n",
    "       # plt.imshow(np.squeeze(y_batch[0]), cmap=\"binary\")\n",
    "\n",
    "        #plt.imshow(y_batch[0], cmap=\"binary\")"
   ]
  },
  {
   "cell_type": "code",
   "execution_count": null,
   "metadata": {
    "scrolled": true
   },
   "outputs": [],
   "source": [
    "for _ in range(100):\n",
    "    X_batch,_ = mnist.train.next_batch(1)\n",
    "    #X_batch = np.rot90(X_batch.reshape([ input_dim[0], input_dim[0]]),1)\n",
    "    X_batch = X_batch.reshape([input_dim[0], input_dim[0]])\n",
    "\n",
    "    for index in range(4):\n",
    "        plt.subplot(1, 4, index + 1)\n",
    "        plt.imshow(np.rot90(X_batch,-index), cmap=\"binary\")\n",
    "        plt.axis(\"off\")\n",
    "    plt.show()\n",
    "    for index in range(4):\n",
    "        plt.subplot(1, 4, index + 1)\n",
    "        pred = sess.run([output],feed_dict={X: np.rot90(X_batch,-index).reshape([-1, input_dim[0], input_dim[0], 1])})\n",
    "        plt.imshow(pred[0].reshape([input_dim[0], input_dim[0]]), cmap=\"binary\")\n",
    "        plt.axis(\"off\")\n",
    "\n",
    "    plt.show()\n",
    "\n",
    "\n",
    "\n",
    "\n"
   ]
  },
  {
   "cell_type": "code",
   "execution_count": null,
   "metadata": {},
   "outputs": [],
   "source": [
    "\n",
    "`"
   ]
  }
 ],
 "metadata": {
  "kernelspec": {
   "display_name": "Python 3",
   "language": "python",
   "name": "python3"
  },
  "language_info": {
   "codemirror_mode": {
    "name": "ipython",
    "version": 3
   },
   "file_extension": ".py",
   "mimetype": "text/x-python",
   "name": "python",
   "nbconvert_exporter": "python",
   "pygments_lexer": "ipython3",
   "version": "3.5.2"
  }
 },
 "nbformat": 4,
 "nbformat_minor": 2
}
